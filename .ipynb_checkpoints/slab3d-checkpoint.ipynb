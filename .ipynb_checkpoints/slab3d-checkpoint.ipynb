{
 "cells": [
  {
   "cell_type": "markdown",
   "metadata": {
    "deletable": true,
    "editable": true
   },
   "source": [
    "## 3D subduction\n",
    "\n",
    "Some of the features of this model:\n",
    "\n",
    "* use embedded manifolds to impose slabs / temperature field - here marker lines representing the top of the slabs\n",
    "* have particles only in some parts of the model\n",
    "    * i.e. only near surface, or where temp is below critical temp\n",
    "* switch between thermal and 'compositional' models:\n",
    "    * In all cases we will build up a proxy-temp field on the particles\n",
    "    * If we want to solve the energy equation, we need to map this proxy-temp to mesh.     \n",
    "* open / closed / periodic / free surface boundary conds. \n",
    "\n",
    "\n",
    "\n"
   ]
  },
  {
   "cell_type": "code",
   "execution_count": 1,
   "metadata": {
    "collapsed": false,
    "deletable": true,
    "editable": true
   },
   "outputs": [
    {
     "name": "stderr",
     "output_type": "stream",
     "text": [
      "/workspace/3dthermalslabs/unsupported_dan/utilities/__init__.py:9: UserWarning: \n",
      "\n",
      "The alchemy module is not supported.\n",
      "Questions should be addressed to sandd@student.unimelb.edu.au \n",
      " \n",
      "  Questions should be addressed to sandd@student.unimelb.edu.au \\n \"\"\"\n",
      "/workspace/3dthermalslabs/unsupported_dan/interfaces/__init__.py:9: UserWarning: \n",
      "\n",
      "The interface module is not supported.\n",
      "Questions should be addressed to louis.moresi@unimelb.edu.au \n",
      " \n",
      "  Questions should be addressed to louis.moresi@unimelb.edu.au \\n \"\"\"\n",
      "/workspace/3dthermalslabs/unsupported_dan/alchemy/__init__.py:9: UserWarning: \n",
      "\n",
      "The alchemy module is not supported.\n",
      "Questions should be addressed to sandd@student.unimelb.edu.au \n",
      " \n",
      "  Questions should be addressed to sandd@student.unimelb.edu.au \\n \"\"\"\n",
      "/workspace/3dthermalslabs/unsupported_dan/checkpoint/__init__.py:9: UserWarning: \n",
      "\n",
      "The checkpoint module is not supported.\n",
      "Questions should be addressed to sandd@student.unimelb.edu.au \n",
      " \n",
      "  Questions should be addressed to sandd@student.unimelb.edu.au \\n \"\"\"\n"
     ]
    }
   ],
   "source": [
    "import numpy as np\n",
    "import underworld as uw\n",
    "import math\n",
    "from underworld import function as fn\n",
    "import glucifer\n",
    "import os\n",
    "import sys\n",
    "from easydict import EasyDict as edict\n",
    "import operator\n",
    "\n",
    "\n",
    "\n",
    "#\n",
    "from unsupported_dan.utilities.interpolation import nn_evaluation\n",
    "#from unsupported_dan.interfaces.marker2D import markerLine2D\n",
    "#from unsupported_dan.faults.faults2D import fault2D, fault_collection\n",
    "from unsupported_dan.interfaces.marker3D import markerSurface3D\n",
    "from unsupported_dan.alchemy.materialGraph import MatGraph\n",
    "from unsupported_dan.checkpoint.checkpoint import checkpoint\n",
    "\n"
   ]
  },
  {
   "cell_type": "code",
   "execution_count": null,
   "metadata": {
    "collapsed": false,
    "deletable": true,
    "editable": true
   },
   "outputs": [],
   "source": []
  },
  {
   "cell_type": "markdown",
   "metadata": {
    "deletable": true,
    "editable": true
   },
   "source": [
    "## Setup output directories"
   ]
  },
  {
   "cell_type": "code",
   "execution_count": 2,
   "metadata": {
    "collapsed": true,
    "deletable": true,
    "editable": true
   },
   "outputs": [],
   "source": [
    "############\n",
    "#Model letter and number\n",
    "############\n",
    "\n",
    "\n",
    "#Model letter identifier default\n",
    "Model = \"T\"\n",
    "\n",
    "#Model number identifier default:\n",
    "ModNum = 0\n",
    "\n",
    "#Any isolated letter / integer command line args are interpreted as Model/ModelNum\n",
    "\n",
    "if len(sys.argv) == 1:\n",
    "    ModNum = ModNum \n",
    "elif sys.argv[1] == '-f': #\n",
    "    ModNum = ModNum \n",
    "else:\n",
    "    for farg in sys.argv[1:]:\n",
    "        if not '=' in farg: #then Assume it's a not a paramter argument\n",
    "            try:\n",
    "                ModNum = int(farg) #try to convert everingthing to a float, else remains string\n",
    "            except ValueError:\n",
    "                Model  = farg"
   ]
  },
  {
   "cell_type": "code",
   "execution_count": 3,
   "metadata": {
    "collapsed": false,
    "deletable": true,
    "editable": true
   },
   "outputs": [],
   "source": [
    "###########\n",
    "#Standard output directory setup\n",
    "###########\n",
    "\n",
    "outputPath = \"results\" + \"/\" +  str(Model) + \"/\" + str(ModNum) + \"/\" \n",
    "imagePath = outputPath + 'images/'\n",
    "filePath = outputPath + 'files/'\n",
    "dbPath = outputPath + 'gldbs/'\n",
    "xdmfPath = outputPath + 'xdmf/'\n",
    "outputFile = 'results_model' + Model + '_' + str(ModNum) + '.dat'\n",
    "\n",
    "if uw.rank()==0:\n",
    "    # make directories if they don't exist\n",
    "    if not os.path.isdir(outputPath):\n",
    "        os.makedirs(outputPath)\n",
    "    if not os.path.isdir(imagePath):\n",
    "        os.makedirs(imagePath)\n",
    "    if not os.path.isdir(dbPath):\n",
    "        os.makedirs(dbPath)\n",
    "    if not os.path.isdir(filePath):\n",
    "        os.makedirs(filePath)\n",
    "    if not os.path.isdir(xdmfPath):\n",
    "        os.makedirs(xdmfPath)\n",
    "        \n",
    "uw.barrier() #Barrier here so no procs run the check in the next cell too early"
   ]
  },
  {
   "cell_type": "code",
   "execution_count": 4,
   "metadata": {
    "collapsed": false,
    "deletable": true,
    "editable": true
   },
   "outputs": [
    {
     "data": {
      "text/plain": [
       "(False, 'results/T/0/checkpoint/', '', {'step': 0, 'time': 0.0}, {})"
      ]
     },
     "execution_count": 4,
     "metadata": {},
     "output_type": "execute_result"
    }
   ],
   "source": [
    "#*************CHECKPOINT-BLOCK**************#\n",
    "\n",
    "#cp = checkpoint(outputPath + 'checkpoint/', loadpath='./results/A/1/checkpoint/10')\n",
    "cp = checkpoint(outputPath + 'checkpoint/')\n",
    "\n",
    "cp.restart, cp.savepath, cp.loadpath, cp.state, cp.objDict\n",
    "\n",
    "#*************CHECKPOINT-BLOCK**************#"
   ]
  },
  {
   "cell_type": "markdown",
   "metadata": {
    "deletable": true,
    "editable": true
   },
   "source": [
    "## Model parameters and scaling"
   ]
  },
  {
   "cell_type": "code",
   "execution_count": 5,
   "metadata": {
    "collapsed": false,
    "deletable": true,
    "editable": true
   },
   "outputs": [],
   "source": [
    "#1./1.87e9, 1./2.36e14"
   ]
  },
  {
   "cell_type": "code",
   "execution_count": 6,
   "metadata": {
    "collapsed": false,
    "deletable": true,
    "editable": true
   },
   "outputs": [],
   "source": [
    "dp = edict({})\n",
    "#Main physical paramters\n",
    "dp.depth=900e3                         #Depth\n",
    "dp.refDensity=3300.                        #reference density\n",
    "dp.refGravity=9.8                          #surface gravity\n",
    "dp.refViscosity=1.8e19                       #reference upper mantle visc.\n",
    "dp.refDiffusivity=1e-6                     #thermal diffusivity\n",
    "dp.refExpansivity=3e-5                     #surface thermal expansivity\n",
    "dp.gasConstant=8.314                    #gas constant\n",
    "dp.specificHeat=1250.                   #Specific heat (Jkg-1K-1)\n",
    "dp.potentialTemp=1573.                  #mantle potential temp (K)\n",
    "dp.surfaceTemp=273.                     #surface temp (K)\n",
    "#Rheology - flow law paramters\n",
    "dp.cohesionMantle=20e6                   #mantle cohesion in Byerlee law\n",
    "dp.cohesionCrust=2e6                    #crust cohesion in Byerlee law\n",
    "dp.frictionMantle=0.2                   #mantle friction coefficient in Byerlee law (tan(phi))\n",
    "dp.frictionCrust=0.02                   #crust friction coefficient \n",
    "dp.diffusionPreExp=5.34e-10             #1./1.87e9, pre-exp factor for diffusion creep\n",
    "dp.diffusionEnergy=3e5 \n",
    "dp.diffusionVolume=5e-6\n",
    "dp.lowerMantlePreExp=4.23e-15           #1./2.36e14\n",
    "dp.lowerMantleEnergy=2.0e5\n",
    "dp.lowerMantleVolume=1.5e-6\n",
    "    #dp.dislocationPreExp=5e-16              #pre-exp factor for dislocation creep\n",
    "    #dp.peierlsPreExp=1e-150                 #pre-exp factor for Peierls creep\n",
    "    #dp.dislocationEnergy=5.4e5\n",
    "    #dp.peierlsEnergy=5.4e5\n",
    "    #dp.dislocationVolume=12e-6\n",
    "    #dp.peierlsVolume=10e-6\n",
    "\n",
    "    #dp.dislocationExponent=3.5              #Dislocation creep stress exponent\n",
    "    #dp.peierlsExponent=20.                  #Peierls creep stress exponent \n",
    "\n",
    "#Rheology - cutoff values\n",
    "dp.viscosityMin=dp.refViscosity*5e-2\n",
    "dp.viscosityMax=dp.refViscosity*1e3                 #viscosity max in the mantle material\n",
    "dp.viscosityMinCrust=dp.refViscosity*5e-2               #viscosity min in the weak-crust material\n",
    "dp.viscosityMaxCrust=1e20               #viscosity max in the weak-crust material\n",
    "dp.yieldStressMax=300*1e6              #\n",
    "#Intrinsic Lengths\n",
    "dp.mantleCrustDepth=20.*1e3              #Crust depth\n",
    "dp.faultThickness = 25.*1e3              #interface material (crust) an top of slabs\n",
    "dp.crustMantleDepth=250.*1e3 \n",
    "dp.lowerMantleDepth=660.*1e3  \n",
    "dp.crustLimitDepth=250.*1e3             #Deeper than this, crust material rheology reverts to mantle rheology\n",
    "#Slab and plate init. parameters\n",
    "dp.subZoneLoc=3000e3                    #Y position of subduction zone...km\n",
    "dp.maxDepth=250e3\n",
    "dp.theta=40                             #Angle of slab\n",
    "dp.radiusOfCurv = 250e3                          #radius of curvature\n",
    "dp.slabMaxAge=100e6                     #age of subduction plate at trench\n",
    "dp.plateMaxAge=100e6                    #max age of slab (Plate model)\n",
    "dp.opMaxAge=100e6                       #age of op\n",
    "#Misc\n",
    "dp.stickyAirDepth=100e3                 #depth of sticky air layer\n",
    "dp.viscosityStickyAir=1e19              #stick air viscosity, normal\n",
    "dp.lowerMantleViscFac=30.\n",
    "#derived params\n",
    "dp.deltaTemp = dp.potentialTemp-dp.surfaceTemp\n",
    "dp.tempGradMantle = (dp.refExpansivity*dp.refGravity*(dp.potentialTemp))/dp.specificHeat\n",
    "dp.tempGradSlab = (dp.refExpansivity*dp.refGravity*(dp.surfaceTemp + 400.))/dp.specificHeat\n",
    "\n",
    "\n",
    "\n",
    "#Modelling and Physics switches\n",
    "\n",
    "md = edict({})\n",
    "md.aspectX = 1.0\n",
    "md.aspectY = 6.\n",
    "md.refineMeshStatic=False\n",
    "md.stickyAir=False\n",
    "md.aspectRatio=5.\n",
    "md.res=16\n",
    "md.ppc=25                                 #particles per cell\n",
    "md.elementType=\"Q1/dQ0\"\n",
    "#md.elementType=\"Q2/DPC1\"\n",
    "md.secInvFac=math.sqrt(1.)\n",
    "md.courantFac=0.5                         #extra limitation on timestepping\n",
    "md.thermal = False                        #thermal system or compositional\n",
    "md.swarmInitialFac = 0.6                 #initial swarm layout will be int(md.ppc*md.swarmInitialFac), popControl will densify later\n",
    "md.compBuoyancy = False\n",
    "md.uniformAge = True\n",
    "md.nltol = 5.0e-2\n",
    "md.maxSteps = 1000\n",
    "md.checkpointEvery = 20\n",
    "\n"
   ]
  },
  {
   "cell_type": "code",
   "execution_count": 7,
   "metadata": {
    "collapsed": false,
    "deletable": true,
    "editable": true
   },
   "outputs": [],
   "source": [
    "####TEST BLOCK, smaller activation energy\n",
    "\n",
    "fracE = 0.6 #We want to multiply the activation Energy by this value\n",
    "delE= dp.diffusionEnergy - dp.diffusionEnergy*fracE\n",
    "dp.diffusionEnergy *= fracE\n",
    "dp.diffusionVolume *=0.8\n",
    "dp.diffusionPreExp /= np.exp(delE /(dp.gasConstant*dp.potentialTemp))"
   ]
  },
  {
   "cell_type": "code",
   "execution_count": 8,
   "metadata": {
    "collapsed": false,
    "deletable": true,
    "editable": true
   },
   "outputs": [
    {
     "name": "stderr",
     "output_type": "stream",
     "text": [
      "/workspace/3dthermalslabs/unsupported_dan/cl_args/__init__.py:9: UserWarning: \n",
      "\n",
      "The interface module is not supported.\n",
      "Questions should be addressed to sandd@student@unimelb.edu.au \n",
      " \n",
      "  Questions should be addressed to sandd@student@unimelb.edu.au \\n \"\"\"\n"
     ]
    }
   ],
   "source": [
    "##Parse any command-line args\n",
    "\n",
    "from unsupported_dan.cl_args import easy_args\n",
    "sysArgs = sys.argv\n",
    "\n",
    "#We want to run this on both the paramter dict, and the model dict\n",
    "easy_args(sysArgs, dp)\n",
    "easy_args(sysArgs, md)"
   ]
  },
  {
   "cell_type": "code",
   "execution_count": 9,
   "metadata": {
    "collapsed": false,
    "deletable": true,
    "editable": true
   },
   "outputs": [],
   "source": [
    "sf = edict({})\n",
    "\n",
    "sf.lengthScale=2900e3\n",
    "sf.refViscosity = dp.refViscosity\n",
    "sf.stress = (dp.refDiffusivity*dp.refViscosity)/sf.lengthScale**2\n",
    "sf.lithGrad = dp.refDensity*dp.refGravity*(sf.lengthScale)**3/(dp.refViscosity*dp.refDiffusivity) \n",
    "sf.lithGrad = (dp.refViscosity*dp.refDiffusivity) /(dp.refDensity*dp.refGravity*(sf.lengthScale)**3)\n",
    "sf.velocity = sf.lengthScale/dp.refDiffusivity\n",
    "sf.strainRate = dp.refDiffusivity/(sf.lengthScale**2)\n",
    "sf.time = 1./sf.strainRate\n",
    "sf.actVolume = (dp.gasConstant*dp.deltaTemp)/(dp.refDensity*dp.refGravity*sf.lengthScale)\n",
    "sf.actEnergy = (dp.gasConstant*dp.deltaTemp)\n",
    "sf.diffusionPreExp = 1./dp.refViscosity\n",
    "sf.deltaTemp  = dp.deltaTemp\n",
    "\n",
    "#sf.dislocationPreExp = ((dp.refViscosity**(-1.*dp.dislocationExponent))*(dp.refDiffusivity**(1. - dp.dislocationExponent))*(sf.lengthScale**(-2.+ (2.*dp.dislocationExponent)))),\n",
    "#sf.peierlsPreExp = 1./2.6845783276046923e+40 #same form as Ads, but ndp.np =20. (hardcoded because numbers are too big)\n",
    "\n",
    "\n",
    "\n",
    "#dimesionless params\n",
    "ndp  = edict({})\n",
    "\n",
    "ndp.rayleigh = (dp.refExpansivity*dp.refDensity*dp.refGravity*dp.deltaTemp*sf.lengthScale**3)/(sf.refViscosity*dp.refDiffusivity)\n",
    "\n",
    "ndp.potentialTemp = dp.potentialTemp/sf.deltaTemp\n",
    "ndp.surfaceTemp = dp.surfaceTemp/sf.deltaTemp \n",
    "ndp.tempGradMantle = dp.tempGradMantle/(sf.deltaTemp/sf.lengthScale)\n",
    "ndp.tempGradSlab = dp.tempGradSlab/(sf.deltaTemp/sf.lengthScale)\n",
    "\n",
    "#lengths / distances\n",
    "ndp.depth = dp.depth/sf.lengthScale\n",
    "ndp.yLim = ndp.depth*md.aspectY\n",
    "ndp.xLim = ndp.depth*md.aspectX\n",
    "ndp.faultThickness = dp.faultThickness/sf.lengthScale\n",
    "ndp.mantleCrustDepth =  dp.mantleCrustDepth/sf.lengthScale\n",
    "ndp.crustLimitDepth = dp.crustLimitDepth/sf.lengthScale\n",
    "ndp.lowerMantleDepth = dp.lowerMantleDepth/sf.lengthScale\n",
    "\n",
    "#times - for convenience the dimensional values are in years, conversion to seconds happens here\n",
    "ndp.slabMaxAge =  dp.slabMaxAge*(3600*24*365)/sf.time\n",
    "ndp.plateMaxAge =  dp.plateMaxAge*(3600*24*365)/sf.time\n",
    "ndp.opMaxAge = dp.opMaxAge*(3600*24*365)/sf.time\n",
    "\n",
    "\n",
    "#Rheology - flow law paramters\n",
    "ndp.cohesionMantle=dp.cohesionMantle/sf.stress                  #mantle cohesion in Byerlee law\n",
    "ndp.cohesionCrust=dp.cohesionCrust/sf.stress                  #crust cohesion in Byerlee law\n",
    "ndp.frictionMantle=dp.frictionMantle/sf.lithGrad                  #mantle friction coefficient in Byerlee law (tan(phi))\n",
    "ndp.frictionCrust=dp.frictionCrust/sf.lithGrad                  #crust friction coefficient \n",
    "ndp.diffusionPreExp=dp.diffusionPreExp/sf.diffusionPreExp                #pre-exp factor for diffusion creep\n",
    "ndp.diffusionEnergy=dp.diffusionEnergy/sf.actEnergy\n",
    "ndp.diffusionVolume=dp.diffusionVolume/sf.actVolume\n",
    "ndp.lowerMantlePreExp=dp.lowerMantlePreExp/sf.diffusionPreExp \n",
    "ndp.lowerMantleEnergy=dp.lowerMantleEnergy/sf.actEnergy\n",
    "ndp.lowerMantleVolume=dp.lowerMantleVolume/sf.actVolume\n",
    "ndp.yieldStressMax=dp.yieldStressMax/sf.stress \n",
    "#Rheology - cutoff values\n",
    "ndp.viscosityMin= dp.viscosityMin /sf.refViscosity\n",
    "ndp.viscosityMax=dp.viscosityMax/sf.refViscosity\n",
    "\n",
    "ndp.viscosityMinCrust= dp.viscosityMinCrust /sf.refViscosity\n",
    "ndp.viscosityMaxCrust = dp.viscosityMaxCrust/sf.refViscosity\n",
    "\n",
    "\n",
    "#Slab and plate init. parameters\n",
    "ndp.subZoneLoc = dp.subZoneLoc/sf.lengthScale\n",
    "ndp.maxDepth = dp.maxDepth/sf.lengthScale\n",
    "ndp.radiusOfCurv = dp.radiusOfCurv/sf.lengthScale\n",
    "\n",
    "\n"
   ]
  },
  {
   "cell_type": "code",
   "execution_count": 10,
   "metadata": {
    "collapsed": false,
    "deletable": true,
    "editable": true
   },
   "outputs": [],
   "source": [
    "#Domain and Mesh paramters\n",
    "zres = int(md.res)\n",
    "yres = int(md.res*md.aspectY)\n",
    "xres = int(md.res*md.aspectX) \n",
    "\n",
    "\n",
    "\n",
    "mesh = uw.mesh.FeMesh_Cartesian( elementType = (md.elementType),\n",
    "                                 elementRes  = (xres, yres, zres), \n",
    "                                 minCoord    = (0., 0., 1. - ndp.depth), \n",
    "                                 maxCoord    = (ndp.xLim,ndp.yLim, 1.)) \n",
    "\n",
    "velocityField   = uw.mesh.MeshVariable( mesh=mesh,         nodeDofCount=3 )\n",
    "pressureField   = uw.mesh.MeshVariable( mesh=mesh.subMesh, nodeDofCount=1 )\n",
    "\n",
    "temperatureField    = uw.mesh.MeshVariable( mesh=mesh,         nodeDofCount=1 )\n",
    "\n",
    "if md.thermal:\n",
    "    temperatureDotField = uw.mesh.MeshVariable( mesh=mesh,         nodeDofCount=1 ) #create this only if Adv-diff\n",
    "    diffusivityFn = fn.misc.constant(1.)"
   ]
  },
  {
   "cell_type": "code",
   "execution_count": 11,
   "metadata": {
    "collapsed": true,
    "deletable": true,
    "editable": true
   },
   "outputs": [],
   "source": [
    "#*************CHECKPOINT-BLOCK**************#\n",
    "cp.addObject(velocityField,'velocityField')\n",
    "cp.addObject(pressureField,'pressureField')\n",
    "cp.addObject(temperatureField,'temperatureField')\n",
    "\n",
    "if md.thermal:\n",
    "    cp.addObject(temperatureDotField,'temperatureDotField')\n",
    "    \n",
    "\n",
    "#*************CHECKPOINT-BLOCK**************#"
   ]
  },
  {
   "cell_type": "code",
   "execution_count": 12,
   "metadata": {
    "collapsed": true,
    "deletable": true,
    "editable": true
   },
   "outputs": [],
   "source": [
    "#*************CHECKPOINT-BLOCK**************#\n",
    "\n",
    "if cp.restart:\n",
    "    velocityField.load(cp.loadpath + '/velocityField.h5')\n",
    "    pressureField.load(cp.loadpath + '/pressureField.h5')\n",
    "    temperatureField.load(cp.loadpath + '/temperatureField.h5')\n",
    "    if md.thermal:\n",
    "        temperatureDotField.load(cp.loadpath + '/temperatureDotField.h5')\n",
    "#*************CHECKPOINT-BLOCK**************#"
   ]
  },
  {
   "cell_type": "code",
   "execution_count": null,
   "metadata": {
    "collapsed": true,
    "deletable": true,
    "editable": true
   },
   "outputs": [],
   "source": []
  },
  {
   "cell_type": "markdown",
   "metadata": {
    "deletable": true,
    "editable": true
   },
   "source": [
    "## miscellaneous Python functions \n"
   ]
  },
  {
   "cell_type": "code",
   "execution_count": 13,
   "metadata": {
    "collapsed": false,
    "deletable": true,
    "editable": true
   },
   "outputs": [],
   "source": [
    "def bbox(mesh):\n",
    "    return ((mesh.minCoord[0], mesh.minCoord[1], mesh.minCoord[2]),(mesh.maxCoord[0], mesh.maxCoord[1], mesh.minCoord[2]))\n"
   ]
  },
  {
   "cell_type": "code",
   "execution_count": 14,
   "metadata": {
    "collapsed": false,
    "deletable": true,
    "editable": true
   },
   "outputs": [],
   "source": [
    "## general underworld2 functions \n",
    "\n",
    "\n",
    "coordinate = fn.input()\n",
    "depthFn = mesh.maxCoord[2] - coordinate[2] #a function providing the depth\n",
    "\n",
    "\n",
    "xFn = coordinate[0]  #a function providing the x-coordinate\n",
    "yFn = coordinate[1]\n",
    "\n",
    "\n",
    "#Create a binary circle\n",
    "def inCircleFnGenerator(centre, radius):\n",
    "    coord = fn.input()\n",
    "    offsetFn = coord - centre\n",
    "    return fn.math.dot( offsetFn, offsetFn ) < radius**2\n",
    "\n",
    "\n",
    "\n"
   ]
  },
  {
   "cell_type": "code",
   "execution_count": null,
   "metadata": {
    "collapsed": false,
    "deletable": true,
    "editable": true
   },
   "outputs": [],
   "source": []
  },
  {
   "cell_type": "code",
   "execution_count": 15,
   "metadata": {
    "collapsed": false,
    "deletable": true,
    "editable": true
   },
   "outputs": [
    {
     "data": {
      "text/plain": [
       "((0.0, 0.0, 0.6896551724137931), (0.3103448275862069, 1.8620689655172415, 1.0))"
      ]
     },
     "execution_count": 15,
     "metadata": {},
     "output_type": "execute_result"
    }
   ],
   "source": [
    "mesh.minCoord, mesh.maxCoord"
   ]
  },
  {
   "cell_type": "markdown",
   "metadata": {
    "deletable": true,
    "editable": true
   },
   "source": [
    "## 1. Static Mesh refinement"
   ]
  },
  {
   "cell_type": "code",
   "execution_count": 16,
   "metadata": {
    "collapsed": false,
    "deletable": true,
    "editable": true
   },
   "outputs": [],
   "source": [
    "if md.refineMeshStatic:\n",
    "    mesh.reset()\n",
    "\n",
    "    jWalls = mesh.specialSets[\"MinJ_VertexSet\"] + mesh.specialSets[\"MaxJ_VertexSet\"]\n",
    "    yFn = coordinate[1]\n",
    "    yField = uw.mesh.MeshVariable( mesh=mesh, nodeDofCount=1 )\n",
    "    yField.data[:] = 0.\n",
    "    yBC = uw.conditions.DirichletCondition( variable=yField, indexSetsPerDof=(jWalls,) )\n",
    "\n",
    "    # set bottom wall temperature bc\n",
    "    for index in mesh.specialSets[\"MinJ_VertexSet\"]:\n",
    "        yField.data[index] = mesh.minCoord[1]\n",
    "    # set top wall temperature bc\n",
    "    for index in mesh.specialSets[\"MaxJ_VertexSet\"]:\n",
    "        yField.data[index] = mesh.maxCoord[1]\n",
    "\n",
    "\n",
    "\n",
    "    s = 2.5\n",
    "    intensityFac = 1.5\n",
    "    intensityFn = (((yFn - mesh.minCoord[1])/(mesh.maxCoord[1]-mesh.minCoord[1]))**s)\n",
    "    intensityFn *= intensityFac\n",
    "    intensityFn += 1.\n",
    "\n",
    "\n",
    "    yLaplaceEquation = uw.systems.SteadyStateHeat(temperatureField=yField, fn_diffusivity=intensityFn, conditions=[yBC,])\n",
    "\n",
    "    # get the default heat equation solver\n",
    "    yLaplaceSolver = uw.systems.Solver(yLaplaceEquation)\n",
    "    # solve\n",
    "    yLaplaceSolver.solve()\n",
    "\n",
    "\n",
    "    #Get the array of Y positions - copy may be necessary, not sure. \n",
    "    newYpos = yField.data.copy() \n",
    "\n",
    "    uw.barrier()\n",
    "    with mesh.deform_mesh():\n",
    "         mesh.data[:,1] = newYpos[:,0]"
   ]
  },
  {
   "cell_type": "code",
   "execution_count": 17,
   "metadata": {
    "collapsed": false,
    "deletable": true,
    "editable": true,
    "scrolled": true
   },
   "outputs": [],
   "source": [
    "#fig= glucifer.Figure(quality=3)\n",
    "\n",
    "#fig.append(glucifer.objects.Mesh(mesh, opacity=0.8))\n",
    "#fig.append(glucifer.objects.Surface(mesh, intensityFn))\n",
    "\n",
    "#fig.show()\n",
    "#fig.save_database('test.gldb')"
   ]
  },
  {
   "cell_type": "code",
   "execution_count": null,
   "metadata": {
    "collapsed": false,
    "deletable": true,
    "editable": true
   },
   "outputs": [],
   "source": []
  },
  {
   "cell_type": "markdown",
   "metadata": {
    "deletable": true,
    "editable": true
   },
   "source": [
    "## Boundary Conditions"
   ]
  },
  {
   "cell_type": "code",
   "execution_count": 18,
   "metadata": {
    "collapsed": false,
    "deletable": true,
    "editable": true
   },
   "outputs": [],
   "source": [
    "#Stokes BCs\n",
    "\n",
    "iWalls = mesh.specialSets[\"MinI_VertexSet\"] + mesh.specialSets[\"MaxI_VertexSet\"]\n",
    "jWalls = mesh.specialSets[\"MinJ_VertexSet\"] + mesh.specialSets[\"MaxJ_VertexSet\"]\n",
    "kWalls = mesh.specialSets[\"MinK_VertexSet\"] + mesh.specialSets[\"MaxK_VertexSet\"]\n",
    "\n",
    "tWalls = mesh.specialSets[\"MaxK_VertexSet\"]\n",
    "bWalls =mesh.specialSets[\"MinK_VertexSet\"]\n",
    "      \n",
    "        \n",
    "freeslipBC = uw.conditions.DirichletCondition( variable      = velocityField, \n",
    "                                               indexSetsPerDof = ( iWalls, jWalls, kWalls) )"
   ]
  },
  {
   "cell_type": "code",
   "execution_count": 19,
   "metadata": {
    "collapsed": true,
    "deletable": true,
    "editable": true
   },
   "outputs": [],
   "source": [
    "#Energy BCs\n",
    "\n",
    "if md.thermal:\n",
    "    dirichTempBC = uw.conditions.DirichletCondition(     variable=temperatureField, \n",
    "                                              indexSetsPerDof=(tWalls,) )"
   ]
  },
  {
   "cell_type": "markdown",
   "metadata": {
    "deletable": true,
    "editable": true
   },
   "source": [
    "## Swarm"
   ]
  },
  {
   "cell_type": "code",
   "execution_count": 20,
   "metadata": {
    "collapsed": true,
    "deletable": true,
    "editable": true
   },
   "outputs": [],
   "source": [
    "#Materials\n",
    "mantleID = 0\n",
    "crustID = 1\n",
    "airID = 2      #in case we use sticky air\n",
    "\n",
    "\n",
    "#list of all material indexes\n",
    "material_list = [mantleID, crustID, airID]"
   ]
  },
  {
   "cell_type": "code",
   "execution_count": 21,
   "metadata": {
    "collapsed": false,
    "deletable": true,
    "editable": true
   },
   "outputs": [],
   "source": [
    "#*************CHECKPOINT-BLOCK**************#\n",
    "\n",
    "swarm = uw.swarm.Swarm(mesh=mesh, particleEscape=True)\n",
    "cp.addObject(swarm,'swarm')\n",
    "materialVariable      = swarm.add_variable( dataType=\"int\", count=1 )\n",
    "cp.addObject(materialVariable,'materialVariable')\n",
    "proxyTempVariable = swarm.add_variable( dataType=\"double\", count=1 )\n",
    "cp.addObject(proxyTempVariable,'proxyTempVariable')\n",
    "\n",
    "\n",
    "if cp.restart:\n",
    "    swarm.load(cp.loadpath + '/swarm.h5')\n",
    "    materialVariable.load(cp.loadpath + '/materialVariable.h5')\n",
    "    proxyTempVariable.load(cp.loadpath + '/proxyTempVariable.h5')   \n",
    "\n",
    "\n",
    "else:\n",
    "    layout = uw.swarm.layouts.PerCellRandomLayout(swarm=swarm, particlesPerCell=int(md.ppc*md.swarmInitialFac))\n",
    "    swarm.populate_using_layout( layout=layout ) # Now use it to populate.\n",
    "    proxyTempVariable.data[:] = 0.0\n",
    "    materialVariable.data[:] = mantleID\n",
    "\n",
    "#*************CHECKPOINT-BLOCK**************#"
   ]
  },
  {
   "cell_type": "code",
   "execution_count": 22,
   "metadata": {
    "collapsed": true,
    "deletable": true,
    "editable": true
   },
   "outputs": [],
   "source": [
    "#These variables don't need checkpointing. \n",
    "\n",
    "signedDistanceVariable = swarm.add_variable( dataType=\"double\", count=1 )\n",
    "directorVector   = swarm.add_variable( dataType=\"double\", count=3)\n",
    "\n",
    "directorVector.data[:,:] = 0.0\n",
    "signedDistanceVariable.data[:] = 0.0\n",
    "\n"
   ]
  },
  {
   "cell_type": "code",
   "execution_count": 23,
   "metadata": {
    "collapsed": false,
    "deletable": true,
    "editable": true
   },
   "outputs": [],
   "source": [
    "#mesh.maxCoord"
   ]
  },
  {
   "cell_type": "markdown",
   "metadata": {
    "deletable": true,
    "editable": true
   },
   "source": [
    "## Initial Conditions"
   ]
  },
  {
   "cell_type": "code",
   "execution_count": 24,
   "metadata": {
    "collapsed": false,
    "deletable": true,
    "editable": true
   },
   "outputs": [],
   "source": [
    "proxyageFn = fn.branching.conditional([(yFn < ndp.subZoneLoc, ndp.slabMaxAge*fn.math.abs(yFn)), #idea is to make this arbitrarily complex\n",
    "                                  (True, ndp.opMaxAge)])\n",
    "\n",
    "\n",
    "\n",
    "if md.uniformAge:\n",
    "    sig = 150e3/sf.lengthScale\n",
    "    ridgeFn = 1. -  \\\n",
    "                fn.math.exp(-1.*(yFn - 0.)**2/(2 * sig**2))- \\\n",
    "                fn.math.exp(-1.*(yFn - mesh.maxCoord[1])**2/(2 * sig**2))\n",
    "    \n",
    "        \n",
    "    proxyageFn = fn.branching.conditional([(yFn < ndp.subZoneLoc, ridgeFn*ndp.slabMaxAge), #idea is to make this arbitrarily complex\n",
    "                                  (True, ridgeFn*ndp.opMaxAge)])\n",
    "    \n",
    "\n",
    "\n",
    "\n",
    "thicknessAtTrench = 2.3*math.sqrt(1.*ndp.slabMaxAge)"
   ]
  },
  {
   "cell_type": "markdown",
   "metadata": {
    "deletable": true,
    "editable": true
   },
   "source": [
    "### Marker Surface for slab"
   ]
  },
  {
   "cell_type": "markdown",
   "metadata": {
    "collapsed": false,
    "deletable": true,
    "editable": true
   },
   "source": [
    "#create coordinates for markrSurface\n",
    "SPACING = 5e3/sf.lengthScale #points at .. km intervals\n",
    "radians = (dp.theta*math.pi)/180.\n",
    "dydx = math.tan(radians)\n",
    "ylimslab = ndp.subZoneLoc + ndp.maxDepth/dydx\n",
    "\n",
    "slabxs = np.arange(mesh.minCoord[0], mesh.maxCoord[0], SPACING)\n",
    "slabys = np.arange(ndp.subZoneLoc, ylimslab,math.cos(radians)*SPACING)\n",
    "coords = np.meshgrid(slabxs, slabys)\n",
    "xs = coords[0].flatten()\n",
    "ys = coords[1].flatten()\n",
    "\n",
    "zs = 1.- (ys - ndp.subZoneLoc)*dydx"
   ]
  },
  {
   "cell_type": "code",
   "execution_count": 25,
   "metadata": {
    "collapsed": true,
    "deletable": true,
    "editable": true
   },
   "outputs": [],
   "source": [
    "def slab_top(trench, normal, gradientFn, ds, maxDepth, mesh):\n",
    "    \"\"\"\n",
    "    Create points representing the top of a slab from trench to maxDepth\n",
    "    \n",
    "    Parameter\n",
    "    ---------\n",
    "    trench : list or list like \n",
    "            Points represnting trench location, \n",
    "    normal: list or list like\n",
    "            vector in the horizontal plane normal to trench\n",
    "    gradientFn: function\n",
    "             function that returns the dip or the slab dz/ds \n",
    "             where s is the distance along the normal vector\n",
    "    ds: float\n",
    "            distance between points, in model coordinates\n",
    "    \n",
    "    max depth: float, or list or list like\n",
    "            Maximum depth of slab\n",
    "    mesh: uw 2 mesh   \n",
    "    \n",
    "    \"\"\"\n",
    "    \n",
    "    #convert everything to numpy arrays\n",
    "    trench = np.array(trench)\n",
    "    normal = np.array(normal)/np.linalg.norm(normal)\n",
    "    maxDepth = np.array(maxDepth)\n",
    "    \n",
    "    #test if gradientFn is a function  \n",
    "    #to do\n",
    "    \n",
    "    #\n",
    "    points = []\n",
    "    points.append(list(trench))\n",
    "    \n",
    "    #set starting values\n",
    "    #normal/= np.linalg.norm(normal)#unitize\n",
    "    vertical = np.zeros(mesh.dim)\n",
    "    vertical[-1] = -1.\n",
    "\n",
    "    P0 = trench.copy()\n",
    "    F = gradientFn(0.)\n",
    "    #print(F)\n",
    "    H = 0.\n",
    "    V = 0.\n",
    "    #print(normal, F)\n",
    "    S = normal.copy()\n",
    "\n",
    "    S[-1] = F     #assumes the last component is vertical\n",
    "    S/= np.linalg.norm(S) #unitize\n",
    "\n",
    "    \n",
    "    while V < maxDepth:\n",
    "        \n",
    "        #Get next set of points\n",
    "        #print(S*ds)\n",
    "        P1 = P0 + S*ds\n",
    "        points.append(list(P1))\n",
    "        P0 = P1\n",
    "        \n",
    "        #update, H, V, F, S\n",
    "        H +=  np.dot(S*ds, normal)\n",
    "        V +=  abs(((S*ds)[-1]))\n",
    "        F = gradientFn(H)        \n",
    "        S = normal.copy()\n",
    "        S[-1] = F     #assumes the last component is vertical\n",
    "        S/= np.linalg.norm(S) #unitize\n",
    "\n",
    "        \n",
    "        \n",
    "        \n",
    "    return(np.array(points))\n",
    "    "
   ]
  },
  {
   "cell_type": "code",
   "execution_count": 26,
   "metadata": {
    "collapsed": true,
    "deletable": true,
    "editable": true
   },
   "outputs": [],
   "source": [
    "def polyGradientFn(S):\n",
    "    if S == 0.:\n",
    "        return 0.\n",
    "    else:\n",
    "        return -1*(S/ndp.radiusOfCurv)**2"
   ]
  },
  {
   "cell_type": "code",
   "execution_count": 27,
   "metadata": {
    "collapsed": true,
    "deletable": true,
    "editable": true
   },
   "outputs": [],
   "source": [
    "ds = 5e3/sf.lengthScale\n",
    "normal = [0.,1., 0.]\n",
    "\n",
    "trenchxs = np.arange(mesh.minCoord[0], mesh.maxCoord[0], ds)\n",
    "trenchys = np.ones(trenchxs.shape)*ndp.subZoneLoc\n",
    "trenchzs = np.ones(trenchxs.shape)\n",
    "\n",
    "\n",
    "trench = np.column_stack((trenchxs, trenchys,trenchzs))"
   ]
  },
  {
   "cell_type": "code",
   "execution_count": 28,
   "metadata": {
    "collapsed": false,
    "deletable": true,
    "editable": true
   },
   "outputs": [],
   "source": [
    "#trench"
   ]
  },
  {
   "cell_type": "code",
   "execution_count": 29,
   "metadata": {
    "collapsed": false,
    "deletable": true,
    "editable": true
   },
   "outputs": [],
   "source": [
    "slabdata = slab_top(trench, normal, polyGradientFn, ds, ndp.maxDepth, mesh)\n"
   ]
  },
  {
   "cell_type": "code",
   "execution_count": 30,
   "metadata": {
    "collapsed": false,
    "deletable": true,
    "editable": true
   },
   "outputs": [],
   "source": [
    "slabxs = slabdata[:,:,0].flatten()\n",
    "slabys = slabdata[:,:,1].flatten()\n",
    "slabzs = slabdata[:,:,2].flatten()"
   ]
  },
  {
   "cell_type": "code",
   "execution_count": 31,
   "metadata": {
    "collapsed": false,
    "deletable": true,
    "editable": true
   },
   "outputs": [
    {
     "name": "stdout",
     "output_type": "stream",
     "text": [
      "Surf Norms\n"
     ]
    }
   ],
   "source": [
    "#create the makerSurface\n",
    "\n",
    "slabTop = markerSurface3D(mesh, velocityField, slabxs, slabys ,slabzs , thicknessAtTrench, 1.)\n",
    "\n"
   ]
  },
  {
   "cell_type": "code",
   "execution_count": 32,
   "metadata": {
    "collapsed": false,
    "deletable": true,
    "editable": true
   },
   "outputs": [
    {
     "name": "stdout",
     "output_type": "stream",
     "text": [
      "1\n"
     ]
    }
   ],
   "source": [
    "#Assign the signed distance for the slab\n",
    "#in this case we only want the portion where the signed distance is positive\n",
    "\n",
    "\n",
    "#Note distance=2.*thicknessAtTrench: we actually want to allow distance greater than thicknessAtTrench in the kDTree query, \n",
    "#as some of these distances will not be orthogonal to the marker line\n",
    "#The dot product in the function will project these distances onto the normal vector\n",
    "#We'll cull distances greater than thicknessAtTrench with a numpy boolean slice\n",
    "#this is a big advantage in parallel\n",
    "\n",
    "\n",
    "sd, pts = slabTop.compute_signed_distance(swarm.particleCoordinates.data, distance=2.*thicknessAtTrench)\n",
    "signedDistanceVariable.data[np.logical_and(sd>0, sd<=slabTop.thickness)] = sd[np.logical_and(sd>0, sd<=slabTop.thickness)]\n",
    "\n",
    "\n",
    "#sp, pts0 = slabLine.compute_marker_proximity(swarm.particleCoordinates.data)\n",
    "#plateVariable.data[np.logical_and(sd>0,sp == slabLine.ID)] = sp[np.logical_and(sd>0,sp == slabLine.ID)]\n",
    "\n"
   ]
  },
  {
   "cell_type": "code",
   "execution_count": 33,
   "metadata": {
    "collapsed": false,
    "deletable": true,
    "editable": true
   },
   "outputs": [],
   "source": [
    "#slabCirc = inCircleFnGenerator((ndp.subZoneLoc, 1.0), ndp.maxDepth)\n",
    "\n",
    "\n",
    "bufferlength = 1e3/sf.lengthScale\n",
    "\n",
    "plateDepthFn = fn.branching.conditional([(depthFn < thicknessAtTrench, depthFn),\n",
    "                                        (True, 1.)])\n",
    "\n",
    "#plateTempProxFn = fn.math.erf((depthFn*sf.lengthScale)/(2.3*fn.math.sqrt(dp.refDiffusivity*proxyageFn)))\n",
    "plateTempProxFn = fn.math.erf((plateDepthFn)/(2.3*fn.math.sqrt(1.*proxyageFn)))\n",
    "\n",
    "#slabTempProx  = fn.math.erf((signedDistanceVariable*sf.lengthScale)/(2.3*fn.math.sqrt(dp.refDiffusivity*proxyageFn)))\n",
    "slabTempProx  = fn.math.erf((signedDistanceVariable)/(2.3*fn.math.sqrt(1.*proxyageFn)))\n",
    "\n",
    "\n",
    "#proxytempConds = fn.branching.conditional([(signedDistanceVariable < bufferlength, plateTempProxFn),\n",
    "#                          (slabCirc, fn.misc.min(slabTempProx , plateTempProxFn)),                 \n",
    "#                          (True, plateTempProxFn)]) #take the min of the plate and slab thermal stencil \n",
    "\n",
    "\n",
    "proxytempConds = fn.branching.conditional([(signedDistanceVariable < bufferlength, plateTempProxFn), #What is this?\n",
    "                          (depthFn > ndp.maxDepth, 1.),                 \n",
    "                          (True, fn.misc.min(slabTempProx , plateTempProxFn)) ]) #take the min of the plate and slab thermal stenc\n",
    "\n",
    "\n",
    "\n",
    "\n",
    "#*************CHECKPOINT-BLOCK**************#\n",
    "\n",
    "if not cp.restart:\n",
    "    proxyTempVariable.data[:] = proxytempConds.evaluate(swarm)\n",
    "\n",
    "#*************CHECKPOINT-BLOCK**************#"
   ]
  },
  {
   "cell_type": "code",
   "execution_count": null,
   "metadata": {
    "collapsed": false,
    "deletable": true,
    "editable": true
   },
   "outputs": [],
   "source": []
  },
  {
   "cell_type": "code",
   "execution_count": 34,
   "metadata": {
    "collapsed": false,
    "deletable": true,
    "editable": true
   },
   "outputs": [],
   "source": [
    "#proxyTempVariable.data.max()\n"
   ]
  },
  {
   "cell_type": "code",
   "execution_count": 35,
   "metadata": {
    "collapsed": false,
    "deletable": true,
    "editable": true
   },
   "outputs": [
    {
     "name": "stdout",
     "output_type": "stream",
     "text": [
      "test Point\n"
     ]
    }
   ],
   "source": [
    "print('test Point')"
   ]
  },
  {
   "cell_type": "code",
   "execution_count": null,
   "metadata": {
    "collapsed": false,
    "deletable": true,
    "editable": true
   },
   "outputs": [],
   "source": []
  },
  {
   "cell_type": "code",
   "execution_count": null,
   "metadata": {
    "collapsed": true,
    "deletable": true,
    "editable": true
   },
   "outputs": [],
   "source": []
  },
  {
   "cell_type": "markdown",
   "metadata": {
    "collapsed": false,
    "deletable": true,
    "editable": true
   },
   "source": [
    "## Mask variable for viz"
   ]
  },
  {
   "cell_type": "code",
   "execution_count": 40,
   "metadata": {
    "collapsed": false,
    "deletable": true,
    "editable": true
   },
   "outputs": [
    {
     "data": {
      "text/plain": [
       "((0.0, 0.0, 0.6896551724137931),\n",
       " (0.3103448275862069, 1.8620689655172415, 0.6896551724137931))"
      ]
     },
     "execution_count": 40,
     "metadata": {},
     "output_type": "execute_result"
    }
   ],
   "source": [
    "bBox = bbox(mesh)\n",
    "bBox"
   ]
  },
  {
   "cell_type": "code",
   "execution_count": 41,
   "metadata": {
    "collapsed": false,
    "deletable": true,
    "editable": true
   },
   "outputs": [],
   "source": [
    "vizVariable      = swarm.add_variable( dataType=\"int\", count=1 )\n",
    "\n",
    "\n",
    "vizConds = fn.branching.conditional([(proxyTempVariable < 0.9*1., 1),\n",
    "                          (True, 0)]) \n",
    "\n",
    "vizVariable.data[:] = vizConds.evaluate(swarm)"
   ]
  },
  {
   "cell_type": "code",
   "execution_count": 42,
   "metadata": {
    "collapsed": false,
    "deletable": true,
    "editable": true
   },
   "outputs": [],
   "source": [
    "#fn_mask=vizVariable"
   ]
  },
  {
   "cell_type": "code",
   "execution_count": 43,
   "metadata": {
    "collapsed": false,
    "deletable": true,
    "editable": true
   },
   "outputs": [],
   "source": [
    "swarmfig = glucifer.Figure(figsize=(800,400), boundingBox=bBox)\n",
    "swarmfig.append( glucifer.objects.Points(swarm, proxyTempVariable, fn_mask=vizVariable) )\n",
    "\n",
    "\n",
    "#swarmfig.show()\n",
    "#swarmfig.save_database('test.gldb')"
   ]
  },
  {
   "cell_type": "code",
   "execution_count": null,
   "metadata": {
    "collapsed": false,
    "deletable": true,
    "editable": true
   },
   "outputs": [],
   "source": []
  },
  {
   "cell_type": "markdown",
   "metadata": {
    "deletable": true,
    "editable": true
   },
   "source": [
    "distance = w0\n",
    "d, p  = slabLine.kdtree.query( swarm.particleCoordinates.data, distance_upper_bound=distance )\n",
    "fpts = np.where( np.isinf(d) == False )[0]\n",
    "director = np.zeros_like(swarm.particleCoordinates.data)  # Let it be zero outside the region of interest\n",
    "director = slabLine.director.data[p[fpts]]\n",
    "vector = swarm.particleCoordinates.data[fpts] - slabLine.kdtree.data[p[fpts]]\n",
    "np.linalg.norm(vector, axis = 1)"
   ]
  },
  {
   "cell_type": "markdown",
   "metadata": {
    "deletable": true,
    "editable": true
   },
   "source": [
    "## Fault / interface"
   ]
  },
  {
   "cell_type": "code",
   "execution_count": 44,
   "metadata": {
    "collapsed": true,
    "deletable": true,
    "editable": true
   },
   "outputs": [],
   "source": [
    "def copy_markerSurface3D(ml, thickness=False, ID=False):\n",
    "    \n",
    "    \"\"\"\n",
    "    I think this is safe in parallel...\n",
    "    \n",
    "    \"\"\"\n",
    "    if not thickness:\n",
    "        thickness = ml.thickness\n",
    "    if not ID:\n",
    "        ID = -1*ml.ID\n",
    "    new_line = markerSurface3D(mesh, velocityField, [], [],[], thickness,  ID)\n",
    "    if ml.swarm.particleCoordinates.data.shape[0] > 0:\n",
    "        new_line.swarm.add_particles_with_coordinates(ml.swarm.particleCoordinates.data.copy())\n",
    "        \n",
    "    new_line.rebuild()\n",
    "    return new_line\n"
   ]
  },
  {
   "cell_type": "code",
   "execution_count": 45,
   "metadata": {
    "collapsed": false,
    "deletable": true,
    "editable": true
   },
   "outputs": [
    {
     "name": "stdout",
     "output_type": "stream",
     "text": [
      "Surf Norms\n",
      "Surf Norms\n"
     ]
    }
   ],
   "source": [
    "#Build fault\n",
    "fault = markerSurface3D(mesh, velocityField, slabxs, slabys ,slabzs, ndp.faultThickness, 1.)\n",
    "\n",
    "\n",
    "with fault.swarm.deform_swarm():\n",
    "    fault.swarm.particleCoordinates.data[:] += fault.director.data*ndp.faultThickness\n",
    "    \n",
    "fault.rebuild()\n",
    "fault.swarm.update_particle_owners()"
   ]
  },
  {
   "cell_type": "code",
   "execution_count": 46,
   "metadata": {
    "collapsed": false,
    "deletable": true,
    "editable": true
   },
   "outputs": [
    {
     "name": "stdout",
     "output_type": "stream",
     "text": [
      "1\n"
     ]
    }
   ],
   "source": [
    "#inform the mesh of the fault\n",
    "\n",
    "sd, pts0 = fault.compute_signed_distance(swarm.particleCoordinates.data, distance=thicknessAtTrench)\n",
    "sp, pts0 = fault.compute_marker_proximity(swarm.particleCoordinates.data)\n",
    "\n",
    "\n",
    "#*************CHECKPOINT-BLOCK**************#\n",
    "if not cp.restart:\n",
    "    materialVariable.data[np.logical_and(sd<0,sp == fault.ID)] = sp[np.logical_and(sd<0,sp == fault.ID)]\n",
    "    \n",
    "#*************CHECKPOINT-BLOCK**************#\n",
    "\n",
    "if directorVector.data.shape[0]:\n",
    "    dv, nzv = fault.compute_normals(swarm.particleCoordinates.data)\n",
    "    if directorVector.data[nzv].shape[0]:\n",
    "        directorVector.data[nzv] = dv[nzv]"
   ]
  },
  {
   "cell_type": "code",
   "execution_count": null,
   "metadata": {
    "collapsed": false,
    "deletable": true,
    "editable": true
   },
   "outputs": [],
   "source": [
    "\n"
   ]
  },
  {
   "cell_type": "code",
   "execution_count": 47,
   "metadata": {
    "collapsed": false,
    "deletable": true,
    "editable": true
   },
   "outputs": [
    {
     "name": "stdout",
     "output_type": "stream",
     "text": [
      "Surf Norms\n",
      "Surf Norms\n"
     ]
    }
   ],
   "source": [
    "#Copy the fault and jitter, this is the swarm we'll capture inteface details on \n",
    "\n",
    "metricSwarm  = copy_markerSurface3D(fault)\n",
    "\n",
    "ds = ndp.faultThickness/2.\n",
    "with metricSwarm.swarm.deform_swarm():\n",
    "    metricSwarm.swarm.particleCoordinates.data[...] -= metricSwarm.director.data[...]*ds"
   ]
  },
  {
   "cell_type": "code",
   "execution_count": 48,
   "metadata": {
    "collapsed": false,
    "deletable": true,
    "editable": true
   },
   "outputs": [],
   "source": [
    "swarmfig = glucifer.Figure(figsize=(800,400), boundingBox=bBox)\n",
    "swarmfig.append( glucifer.objects.Points(swarm, proxyTempVariable, fn_mask=vizVariable) )\n",
    "swarmfig.append( glucifer.objects.Points(fault.swarm) )\n",
    "swarmfig.append( glucifer.objects.Points(slabTop.swarm) )\n",
    "\n",
    "\n",
    "#swarmfig.show()\n",
    "#swarmfig.save_database('test.gldb')"
   ]
  },
  {
   "cell_type": "code",
   "execution_count": 49,
   "metadata": {
    "collapsed": true,
    "deletable": true,
    "editable": true
   },
   "outputs": [],
   "source": [
    "#glucifer.objects."
   ]
  },
  {
   "cell_type": "markdown",
   "metadata": {
    "deletable": true,
    "editable": true
   },
   "source": [
    "## Temperature field\n",
    "\n",
    "This bit needs work"
   ]
  },
  {
   "cell_type": "code",
   "execution_count": 50,
   "metadata": {
    "collapsed": false,
    "deletable": true,
    "editable": true
   },
   "outputs": [
    {
     "data": {
      "text/plain": [
       "0.0"
      ]
     },
     "execution_count": 50,
     "metadata": {},
     "output_type": "execute_result"
    }
   ],
   "source": [
    "mesh.minCoord[1]"
   ]
  },
  {
   "cell_type": "code",
   "execution_count": 51,
   "metadata": {
    "collapsed": false,
    "deletable": true,
    "editable": true
   },
   "outputs": [],
   "source": [
    "def swarmToTemp():\n",
    "\n",
    "    _ix, _weights, _dist = nn_evaluation(swarm.particleCoordinates.data, mesh.data, n=2, weighted=True)\n",
    "\n",
    "\n",
    "    temperatureField.data[:] = 1.0 #first set to dimensionless potential temp\n",
    "\n",
    "    #this was to provide a bit of safety in case we don't use particles everywhere. Currently not needed\n",
    "   # tempMapTol = 0.2\n",
    "    #tempMapMask = _dist.min(axis=1) < tempMapTol*(1. - mesh.minCoord[1])/mesh.elementRes[1] \n",
    "    #temperatureField.data[:,0][tempMapMask] = np.average(proxyTempVariable.evaluate(swarm)[_ix][tempMapMask][:,:,0],weights=_weights[tempMapMask], axis=1)\n",
    "\n",
    "\n",
    "    temperatureField.data[:,0] = np.average(proxyTempVariable.evaluate(swarm)[_ix][:,:,0],weights=_weights, axis=1)\n",
    "    #now used IDW to assign temp from particles to Field\n",
    "    #this is looking pretty ugly; nn_evaluation could use some grooming\n",
    "\n",
    "    #now cleanup any values that have fallen outside the Bcs\n",
    "\n",
    "    temperatureField.data[temperatureField.data > 1.] = 1.\n",
    "    temperatureField.data[temperatureField.data < 0.] = 0.\n",
    "    \n",
    "    #and cleanup the BCs\n",
    "    \n",
    "    temperatureField.data[bWalls.data] = 1.\n",
    "    temperatureField.data[tWalls.data] = 0.\n"
   ]
  },
  {
   "cell_type": "code",
   "execution_count": 52,
   "metadata": {
    "collapsed": false,
    "deletable": true,
    "editable": true
   },
   "outputs": [],
   "source": [
    "#map proxy temp (swarm var) to mesh variable\n",
    "swarmToTemp()"
   ]
  },
  {
   "cell_type": "code",
   "execution_count": 154,
   "metadata": {
    "collapsed": false,
    "deletable": true,
    "editable": true
   },
   "outputs": [],
   "source": [
    "#fig= glucifer.Figure(quality=3, boundingBox=bBox)\n",
    "\n",
    "#fig.append( glucifer.objects.Mesh(mesh ))\n",
    "#fig.append( glucifer.objects.Surface(mesh, temperatureField, sides=\"ZY\"))\n",
    "\n",
    "#fig.append( glucifer.objects.CrossSection(mesh, depthFn, x = 0.1))\n",
    "\n",
    "#\n",
    "#fig.show()\n",
    "#fig.save_database('temp.gldb')"
   ]
  },
  {
   "cell_type": "code",
   "execution_count": 155,
   "metadata": {
    "collapsed": false,
    "deletable": true,
    "editable": true
   },
   "outputs": [],
   "source": [
    "#glucifer.objects.Surface?"
   ]
  },
  {
   "cell_type": "markdown",
   "metadata": {
    "deletable": true,
    "editable": true
   },
   "source": [
    "## adiabatic temp correction"
   ]
  },
  {
   "cell_type": "code",
   "execution_count": 109,
   "metadata": {
    "collapsed": false,
    "deletable": true,
    "editable": true
   },
   "outputs": [],
   "source": [
    "#(w0*sf.lengthScale)/(2.*np.sqrt(dp.refDiffusivity*ageAtTrenchSeconds))"
   ]
  },
  {
   "cell_type": "code",
   "execution_count": 110,
   "metadata": {
    "collapsed": false,
    "deletable": true,
    "editable": true
   },
   "outputs": [],
   "source": [
    "#Adiabatic correction: this is added to the arrhenius laws to simulate the adiabatic component\n",
    "#We'll use a double linearisation of the adiabatic temp function:\n",
    "\n",
    "#ndp.tempGradMantle linearised at the mantle potential temp\n",
    "#dp.tempGradSlab linearised at typical slab temp\n",
    "\n",
    "\n",
    "thicknessAtTrench = 2.3*math.sqrt(1.*ndp.slabMaxAge)\n",
    "tempAtTrench  = math.erf((thicknessAtTrench)/(2.3*math.sqrt(1.*ndp.slabMaxAge))) #this is the isotherm used to define the slab / mantle boundary\n",
    "\n",
    "\n",
    "dp.tempGradMantle, dp.tempGradSlab\n",
    "\n",
    "if md.thermal:\n",
    "    adiabaticCorrectFn = fn.branching.conditional([(temperatureField > tempAtTrench, depthFn*ndp.tempGradMantle), #idea is to make this arbitrarily complex\n",
    "                                      (True, depthFn*ndp.tempGradSlab) ])\n",
    "else:\n",
    "    adiabaticCorrectFn = fn.branching.conditional([(proxyTempVariable > tempAtTrench, depthFn*ndp.tempGradMantle), #idea is to make this arbitrarily complex\n",
    "                                      (True, depthFn*ndp.tempGradSlab) ])\n",
    "\n",
    "\n",
    "#This will need alteration if we are using non Global particles. The adiabaticCorrectFn will need to be wrapped in a \n",
    "#swarm.fn_particle_found() conditional"
   ]
  },
  {
   "cell_type": "code",
   "execution_count": 111,
   "metadata": {
    "collapsed": false,
    "deletable": true,
    "editable": true
   },
   "outputs": [],
   "source": [
    "#fig= glucifer.Figure(quality=3, boundingBox= bBox)\n",
    "\n",
    "#fig.append( glucifer.objects.Mesh(mesh ))\n",
    "#fig.append( glucifer.objects.Points(swarm, proxyTempVariable + adiabaticCorrectFn, pointSize=1))\n",
    "\n",
    "#fig.show()"
   ]
  },
  {
   "cell_type": "markdown",
   "metadata": {
    "deletable": true,
    "editable": true
   },
   "source": [
    "## Swarm densification\n",
    "\n",
    "Try to build our initial geometry with less particles that are required dynamically,\n",
    "\n",
    "Then use population_control to fill out the swarm"
   ]
  },
  {
   "cell_type": "code",
   "execution_count": 112,
   "metadata": {
    "collapsed": true,
    "deletable": true,
    "editable": true
   },
   "outputs": [],
   "source": [
    "population_control = uw.swarm.PopulationControl(swarm, deleteThreshold=0.006, splitThreshold=0.25, maxDeletions=1, maxSplits=3, aggressive=True,aggressiveThreshold=0.9, particlesPerCell=int(md.ppc))\n",
    "\n",
    "\n",
    "#"
   ]
  },
  {
   "cell_type": "markdown",
   "metadata": {
    "collapsed": false,
    "deletable": true,
    "editable": true
   },
   "source": [
    "def repopulate():\n",
    "    thresh = 5000.\n",
    "    diff = thresh + 1\n",
    "    count = 1\n",
    "    maxLoops = 10\n",
    "    pg = np.copy(swarm.particleGlobalCount)\n",
    "    while abs(diff) > thresh and count < maxLoops + 1:\n",
    "        population_control.repopulate()\n",
    "        diff = swarm.particleGlobalCount - pg\n",
    "        pg = swarm.particleGlobalCount\n",
    "        #print(str(count), str(pg), str(diff))\n",
    "        count += 1\n",
    "    "
   ]
  },
  {
   "cell_type": "code",
   "execution_count": 113,
   "metadata": {
    "collapsed": false,
    "deletable": true,
    "editable": true
   },
   "outputs": [],
   "source": [
    "#keep it simple for now\n",
    "def repopulate():\n",
    "    population_control.repopulate()"
   ]
  },
  {
   "cell_type": "code",
   "execution_count": 114,
   "metadata": {
    "collapsed": false,
    "deletable": true,
    "editable": true
   },
   "outputs": [],
   "source": [
    "repopulate()\n"
   ]
  },
  {
   "cell_type": "code",
   "execution_count": 115,
   "metadata": {
    "collapsed": false,
    "deletable": true,
    "editable": true
   },
   "outputs": [
    {
     "data": {
      "text/plain": [
       "0.992906494140625"
      ]
     },
     "execution_count": 115,
     "metadata": {},
     "output_type": "execute_result"
    }
   ],
   "source": [
    "((float(swarm.particleGlobalCount)/mesh.elementsGlobal))/md.ppc"
   ]
  },
  {
   "cell_type": "markdown",
   "metadata": {
    "deletable": true,
    "editable": true
   },
   "source": [
    "## MOR restriction Fn\n",
    "\n",
    "Use the temperature gradient to define a restriction around the Ridges\n",
    "This coud be used to determin locations for crust creation, etc."
   ]
  },
  {
   "cell_type": "code",
   "execution_count": 116,
   "metadata": {
    "collapsed": false,
    "deletable": true,
    "editable": true
   },
   "outputs": [],
   "source": [
    "#depthMorTest = 20e3/sf.lengthScale\n",
    "\n",
    "#nearSurfTempGrad = fn.branching.conditional( ((depthFn < depthMorTest, temperatureField.fn_gradient[2] ), \n",
    "#                                           (True,                      0.)  ))\n",
    "\n",
    "#morRestrictFn = fn.math.abs(nearSurfTempGrad) < 50.\n"
   ]
  },
  {
   "cell_type": "code",
   "execution_count": 117,
   "metadata": {
    "collapsed": false,
    "deletable": true,
    "editable": true
   },
   "outputs": [],
   "source": [
    "#fig= glucifer.Figure(quality=3)\n",
    "#fig.append( glucifer.objects.Surface(mesh,repopMaskFn))\n",
    "#fig.append( glucifer.objects.Points(swarm, temperatureField.fn_gradient[2], pointSize=2))\n",
    "\n",
    "#fig.show()\n"
   ]
  },
  {
   "cell_type": "markdown",
   "metadata": {
    "deletable": true,
    "editable": true
   },
   "source": [
    "##  Material Graph"
   ]
  },
  {
   "cell_type": "code",
   "execution_count": 118,
   "metadata": {
    "collapsed": false,
    "deletable": true,
    "editable": true
   },
   "outputs": [],
   "source": [
    "###################\n",
    "#initial particle layout\n",
    "###################\n",
    "\n",
    "#Setup the graph object\n",
    "MG = MatGraph()\n",
    "\n",
    "#First thing to do is to add all the material types to the graph (i.e add nodes)\n",
    "MG.add_nodes_from(material_list)\n",
    "\n",
    "#mantle  => crust\n",
    "MG.add_transition((mantleID,crustID), depthFn, operator.lt, ndp.mantleCrustDepth)\n",
    "MG.add_transition((mantleID,crustID), yFn, operator.gt, 2.*thicknessAtTrench)   #This distance away from the ridge\n",
    "MG.add_transition((mantleID,crustID), yFn, operator.lt, ndp.subZoneLoc)\n",
    "\n",
    "                  \n",
    "#crust  => mantle                \n",
    "MG.add_transition((crustID, mantleID), depthFn, operator.gt, ndp.crustLimitDepth)\n",
    "\n",
    "\n",
    "MG.build_condition_list(materialVariable)\n",
    "materialVariable.data[:] = fn.branching.conditional(MG.condition_list).evaluate(swarm)"
   ]
  },
  {
   "cell_type": "code",
   "execution_count": 119,
   "metadata": {
    "collapsed": false,
    "deletable": true,
    "editable": true
   },
   "outputs": [],
   "source": [
    "#Final particle transformation rules\n",
    "#restrict crust creation - avoid crust on the upper plate\n",
    "\n",
    "MG.remove_edges_from([(mantleID,crustID)])\n",
    "\n",
    "#mantle  => crust\n",
    "MG.add_transition((mantleID,crustID), depthFn, operator.lt, ndp.mantleCrustDepth)\n",
    "MG.add_transition((mantleID,crustID), yFn, operator.gt, 2.*thicknessAtTrench) \n",
    "MG.add_transition((mantleID,crustID), yFn, operator.lt, ndp.subZoneLoc/2.)   \n",
    "MG.add_transition((mantleID,crustID), xFn, operator.lt, (mesh.minCoord[0] - ndp.subZoneLoc)/2.)\n",
    "\n",
    "MG.build_condition_list(materialVariable)"
   ]
  },
  {
   "cell_type": "code",
   "execution_count": 122,
   "metadata": {
    "collapsed": false,
    "deletable": true,
    "editable": true
   },
   "outputs": [],
   "source": [
    "fig3= glucifer.Figure(quality=3, boundingBox=bBox)\n",
    "fig3.append( glucifer.objects.Points(swarm,materialVariable, pointSize=2, fn_mask=vizVariable))\n",
    "fig3.append( glucifer.objects.Mesh(mesh,opacity=0.2))\n",
    "\n",
    "#fig1.append( glucifer.objects.Points(metricSwarm.swarm, pointSize=1))\n",
    "#fig3.show()\n",
    "#fig3.save_database('mat.gldb')"
   ]
  },
  {
   "cell_type": "markdown",
   "metadata": {
    "deletable": true,
    "editable": true
   },
   "source": [
    "## choose temp field to use"
   ]
  },
  {
   "cell_type": "code",
   "execution_count": 103,
   "metadata": {
    "collapsed": true,
    "deletable": true,
    "editable": true
   },
   "outputs": [],
   "source": [
    "if md.thermal:\n",
    "    temperatureFn = temperatureField\n",
    "else:\n",
    "    temperatureFn = proxyTempVariable"
   ]
  },
  {
   "cell_type": "markdown",
   "metadata": {
    "deletable": true,
    "editable": true
   },
   "source": [
    "## Rheology"
   ]
  },
  {
   "cell_type": "code",
   "execution_count": 36,
   "metadata": {
    "collapsed": false,
    "deletable": true,
    "editable": true
   },
   "outputs": [],
   "source": [
    "#fault_coll = fault_collection([fault])\n",
    "\n",
    "#Set up any functions required by the rheology\n",
    "strainRate_2ndInvariant = fn.tensor.second_invariant( \n",
    "                            fn.tensor.symmetric( \n",
    "                            velocityField.fn_gradient ))\n",
    "\n",
    "#total pressure (i.e dimensional total pressure, multiplied by the Stress scaling)\n",
    "totalPressureFn = pressureField + (depthFn*dp.depth*dp.refDensity*dp.refGravity)*sf.stress #assumes surface dynamic pressure integral is set to zero\n",
    "\n",
    "\n",
    "def safe_visc(func, viscmin=ndp.viscosityMin, viscmax=ndp.viscosityMax):\n",
    "    return fn.misc.max(viscmin, fn.misc.min(viscmax, func))\n",
    "\n",
    "\n",
    "#edotn_SFn, edots_SFn = fault_coll.global_fault_strainrate_fns(velocityField, directorVector, proximityVariable)"
   ]
  },
  {
   "cell_type": "code",
   "execution_count": 55,
   "metadata": {
    "collapsed": false,
    "deletable": true,
    "editable": true
   },
   "outputs": [],
   "source": [
    "##Diffusion Creep\n",
    "diffusionUM = (1./ndp.diffusionPreExp)*\\\n",
    "            fn.math.exp( ((ndp.diffusionEnergy + (depthFn*ndp.diffusionVolume))/((temperatureFn+ adiabaticCorrectFn + ndp.surfaceTemp))))\n",
    "\n",
    "diffusionLM = (1./ndp.lowerMantlePreExp)*\\\n",
    "            fn.math.exp( ((ndp.lowerMantleEnergy + (depthFn*ndp.lowerMantleVolume))/((temperatureFn+ adiabaticCorrectFn + ndp.surfaceTemp))))\n",
    "\n",
    "diffusion = fn.branching.conditional( ((depthFn < ndp.lowerMantleDepth, diffusionUM ), \n",
    "                                           (True,                      diffusionLM )  ))\n",
    "    \n",
    "diffusion = safe_visc(diffusion, viscmax=1e5)\n",
    "    \n",
    "#Define the mantle Plasticity\n",
    "ys =  ndp.cohesionMantle + (depthFn*ndp.frictionMantle)\n",
    "ysf = fn.misc.min(ys, ndp.yieldStressMax)\n",
    "yielding = ysf/(2.*(strainRate_2ndInvariant) + 1e-15) \n",
    "\n",
    "##Crust plasticity\n",
    "crustys =  ndp.cohesionCrust + (depthFn*ndp.frictionCrust)\n",
    "crustysf = fn.misc.min(crustys, ndp.yieldStressMax)\n",
    "crustYielding = crustysf/(2.*(strainRate_2ndInvariant)) \n",
    "\n",
    "\n",
    "\n",
    "#combined rheologies\n",
    "\n",
    "mantleViscosityFn = safe_visc(fn.misc.min(diffusion, yielding), viscmax=ndp.viscosityMax)\n",
    "interfaceViscosityFn = safe_visc(fn.misc.min(diffusion, crustYielding), viscmax=ndp.viscosityMaxCrust)"
   ]
  },
  {
   "cell_type": "code",
   "execution_count": null,
   "metadata": {
    "collapsed": true,
    "deletable": true,
    "editable": true
   },
   "outputs": [],
   "source": []
  },
  {
   "cell_type": "code",
   "execution_count": 56,
   "metadata": {
    "collapsed": false,
    "deletable": true,
    "editable": true
   },
   "outputs": [],
   "source": [
    "viscosityMapFn = fn.branching.map( fn_key = materialVariable,\n",
    "                         mapping = {0:mantleViscosityFn,\n",
    "                                    1:interfaceViscosityFn} )\n",
    "\n",
    "\n"
   ]
  },
  {
   "cell_type": "code",
   "execution_count": 57,
   "metadata": {
    "collapsed": false,
    "deletable": true,
    "editable": true
   },
   "outputs": [],
   "source": [
    "#fig= glucifer.Figure(quality=3)\n",
    "\n",
    "#fig.append( glucifer.objects.Points(upperplate.swarm, pointSize=2))\n",
    "#fig.append( glucifer.objects.Mesh(mesh, opacity=0.2))\n",
    "#fig.append( glucifer.objects.Points(swarm, viscosityMapFn, pointSize=2, logScale=True))\n",
    "\n",
    "\n",
    "#fig.show()\n",
    "#fig.save_image('visc.png')"
   ]
  },
  {
   "cell_type": "markdown",
   "metadata": {
    "deletable": true,
    "editable": true
   },
   "source": [
    "## Buoyancy "
   ]
  },
  {
   "cell_type": "code",
   "execution_count": 58,
   "metadata": {
    "collapsed": true,
    "deletable": true,
    "editable": true
   },
   "outputs": [],
   "source": [
    "#md.compBuoyancy = True"
   ]
  },
  {
   "cell_type": "code",
   "execution_count": 59,
   "metadata": {
    "collapsed": true,
    "deletable": true,
    "editable": true
   },
   "outputs": [],
   "source": [
    "#Thermal Buoyancy\n",
    "\n",
    "z_hat = ( 0.0,0.0, 1.0 )\n",
    "\n",
    "\n",
    "if md.thermal:\n",
    "    thermalBuoyancyFn = ndp.rayleigh*temperatureField\n",
    "else:\n",
    "    thermalBuoyancyFn = ndp.rayleigh*proxyTempVariable"
   ]
  },
  {
   "cell_type": "code",
   "execution_count": 60,
   "metadata": {
    "collapsed": false,
    "deletable": true,
    "editable": true
   },
   "outputs": [],
   "source": [
    "#Set up compositional buoyancy contributions\n",
    "\n",
    "\n",
    "buoyancy_factor = (dp.refGravity*sf.lengthScale**3)/(dp.refViscosity*dp.refDiffusivity)\n",
    "\n",
    "air_comp_buoyancy  = (dp.refDensity - 1000.)*buoyancy_factor          #roughly sea-water density\n",
    "basalt_comp_buoyancy  = (dp.refDensity - 2940.)*buoyancy_factor       #\n",
    "#harz_comp_buoyancy = (dp.refDensity - 3235.)*buoyancy_factor\n",
    "pyrolite_comp_buoyancy = (dp.refDensity - 3300.)*buoyancy_factor\n",
    "\n",
    "\n",
    "#if we're using a thicker crust for numerical resolution, make a bouyancy adjustment\n",
    "averageCrustThickness = 6e3\n",
    "basalt_comp_buoyancy *=(averageCrustThickness/dp.mantleCrustDepth)"
   ]
  },
  {
   "cell_type": "code",
   "execution_count": 61,
   "metadata": {
    "collapsed": false,
    "deletable": true,
    "editable": true
   },
   "outputs": [],
   "source": [
    "if not md.compBuoyancy:\n",
    "    pyrolitebuoyancyFn =  (thermalBuoyancyFn)*z_hat\n",
    "#    harzbuoyancyFn =      (ndp.RA*temperatureField) \n",
    "    basaltbuoyancyFn =    (thermalBuoyancyFn)*z_hat\n",
    "    \n",
    "    airbuoyancyFn =    (fn.misc.constant(air_comp_buoyancy))*z_hat\n",
    "\n",
    "else : \n",
    "    pyrolitebuoyancyFn =  (thermalBuoyancyFn + pyrolite_comp_buoyancy)*z_hat\n",
    "#    harzbuoyancyFn =      (ndp.RA*temperatureField*taFn) +\\\n",
    "#                           harz_comp_buoyancy\n",
    "    basaltbuoyancyFn =    (thermalBuoyancyFn + basalt_comp_buoyancy)*z_hat\n",
    "    \n",
    "    airbuoyancyFn =    (fn.misc.constant(air_comp_buoyancy))*z_hat\n",
    "                           \n",
    "                           \n",
    "                           \n",
    "buoyancyMapFn = fn.branching.map( fn_key = materialVariable,\n",
    "                         mapping = {airID:airbuoyancyFn ,\n",
    "                                    crustID:basaltbuoyancyFn, \n",
    "                                    mantleID:pyrolitebuoyancyFn} )\n",
    "#                                    harzIndex:harzbuoyancyFn} )"
   ]
  },
  {
   "cell_type": "code",
   "execution_count": null,
   "metadata": {
    "collapsed": false,
    "deletable": true,
    "editable": true
   },
   "outputs": [],
   "source": []
  },
  {
   "cell_type": "code",
   "execution_count": 62,
   "metadata": {
    "collapsed": false,
    "deletable": true,
    "editable": true
   },
   "outputs": [],
   "source": [
    "#md.nonGlobalSwarm"
   ]
  },
  {
   "cell_type": "markdown",
   "metadata": {
    "deletable": true,
    "editable": true
   },
   "source": [
    "## Any other functions we'll need"
   ]
  },
  {
   "cell_type": "code",
   "execution_count": 63,
   "metadata": {
    "collapsed": true,
    "deletable": true,
    "editable": true
   },
   "outputs": [],
   "source": [
    "###################\n",
    "#Create integral, max/min templates \n",
    "###################\n",
    "\n",
    "\n",
    "globRestFn = 1.\n",
    "\n",
    "def volumeint(Fn = 1., rFn=globRestFn):\n",
    "    return uw.utils.Integral( Fn*rFn,  mesh )\n",
    "\n",
    "def surfint(Fn = 1., rFn=globRestFn, surfaceIndexSet=mesh.specialSets[\"MaxJ_VertexSet\"]):\n",
    "    return uw.utils.Integral( Fn*rFn, mesh=mesh, integrationType='Surface', surfaceIndexSet=surfaceIndexSet)\n",
    "\n",
    "def maxMin(Fn = 1.):\n",
    "    #maxMin(Fn = 1., rFn=globRestFn\n",
    "    #vuFn = fn.view.min_max(Fn*rFn) #the restriction functions don't work with the view.min_max fn yet\n",
    "    vuFn = fn.view.min_max(Fn)\n",
    "    return vuFn"
   ]
  },
  {
   "cell_type": "code",
   "execution_count": null,
   "metadata": {
    "collapsed": true,
    "deletable": true,
    "editable": true
   },
   "outputs": [],
   "source": []
  },
  {
   "cell_type": "markdown",
   "metadata": {
    "deletable": true,
    "editable": true
   },
   "source": [
    "## Stokes system and solver"
   ]
  },
  {
   "cell_type": "code",
   "execution_count": 64,
   "metadata": {
    "collapsed": false,
    "deletable": true,
    "editable": true
   },
   "outputs": [],
   "source": [
    "#print('got to Stokes')"
   ]
  },
  {
   "cell_type": "code",
   "execution_count": 85,
   "metadata": {
    "collapsed": false,
    "deletable": true,
    "editable": true
   },
   "outputs": [],
   "source": [
    "stokes = uw.systems.Stokes( velocityField  = velocityField, \n",
    "                                   pressureField  = pressureField,\n",
    "                                   conditions     = [freeslipBC,],\n",
    "                                   fn_viscosity   = viscosityMapFn, \n",
    "                                   fn_bodyforce   = buoyancyMapFn )\n",
    "\n"
   ]
  },
  {
   "cell_type": "code",
   "execution_count": null,
   "metadata": {
    "collapsed": true,
    "deletable": true,
    "editable": true
   },
   "outputs": [],
   "source": [
    "# Create solver & solve\n",
    "solver = uw.systems.Solver(stokes)"
   ]
  },
  {
   "cell_type": "code",
   "execution_count": null,
   "metadata": {
    "collapsed": true,
    "deletable": true,
    "editable": true
   },
   "outputs": [],
   "source": [
    "solver.options.main.Q22_pc_type='gkgdiag'\n",
    "solver.options.scr.ksp_rtol=5e-5\n",
    "solver.set_inner_method('mg')\n",
    "solver.options.mg.levels = 3\n",
    "#solver.set_penalty(10.)"
   ]
  },
  {
   "cell_type": "code",
   "execution_count": null,
   "metadata": {
    "collapsed": true,
    "deletable": true,
    "editable": true
   },
   "outputs": [],
   "source": [
    "#solver.set_inner_method(\"mumps\")\n",
    "#solver.options.scr.ksp_type=\"cg\"\n",
    "#solver.set_penalty(1.0e7)\n",
    "#solver.options.scr.ksp_rtol = 1.0e-4\n"
   ]
  },
  {
   "cell_type": "code",
   "execution_count": null,
   "metadata": {
    "collapsed": false,
    "deletable": true,
    "editable": true
   },
   "outputs": [],
   "source": [
    "\n",
    "if not cp.restart:\n",
    "    solver.solve(nonLinearIterate=True, nonLinearTolerance=md.nltol,\n",
    "              nonLinearMaxIterations=15)\n",
    "\n",
    "#solver.print_stats()"
   ]
  },
  {
   "cell_type": "code",
   "execution_count": null,
   "metadata": {
    "collapsed": false,
    "deletable": true,
    "editable": true
   },
   "outputs": [],
   "source": [
    "fig= glucifer.Figure(quality=3)\n",
    "\n",
    "#fig.append( glucifer.objects.Mesh(mesh, opacity=0.2))\n",
    "fig.append( glucifer.objects.Points(swarm, proxyTempVariable, pointSize=2))\n",
    "fig.append( glucifer.objects.VectorArrows(mesh, velocityField, scaling=0.00005))\n",
    "\n",
    "#fig.show()\n",
    "#fig.save_image('solve1.png')"
   ]
  },
  {
   "cell_type": "markdown",
   "metadata": {
    "deletable": true,
    "editable": true
   },
   "source": [
    "## Setup advection-diffusion, swarm advection"
   ]
  },
  {
   "cell_type": "code",
   "execution_count": null,
   "metadata": {
    "collapsed": true,
    "deletable": true,
    "editable": true
   },
   "outputs": [],
   "source": [
    "advector = uw.systems.SwarmAdvector( swarm=swarm, velocityField=velocityField, order=2 )\n",
    "\n",
    "if md.thermal:\n",
    "    advDiff = uw.systems.AdvectionDiffusion( phiField       = temperatureField, \n",
    "                                         phiDotField    = temperatureDotField, \n",
    "                                         velocityField  = velocityField,\n",
    "                                         fn_sourceTerm    = 0.0,\n",
    "                                         fn_diffusivity = 1., \n",
    "                                         #conditions     = [neumannTempBC, dirichTempBC] )\n",
    "                                         conditions     = [ dirichTempBC] )\n"
   ]
  },
  {
   "cell_type": "code",
   "execution_count": null,
   "metadata": {
    "collapsed": false,
    "deletable": true,
    "editable": true
   },
   "outputs": [],
   "source": [
    "#md.thermal"
   ]
  },
  {
   "cell_type": "code",
   "execution_count": null,
   "metadata": {
    "collapsed": false,
    "deletable": true,
    "editable": true
   },
   "outputs": [],
   "source": [
    "#print('past first solve')"
   ]
  },
  {
   "cell_type": "markdown",
   "metadata": {
    "deletable": true,
    "editable": true
   },
   "source": [
    "## Viz"
   ]
  },
  {
   "cell_type": "markdown",
   "metadata": {
    "collapsed": false,
    "deletable": true,
    "editable": true
   },
   "source": [
    "#Build a depth dependent mask for the vizualisation\n",
    "\n",
    "depthVariable      = swarm.add_variable( dataType=\"float\", count=1 )\n",
    "depthVariable.data[:] = depthFn.evaluate(swarm)\n",
    "\n",
    "vizVariable      = swarm.add_variable( dataType=\"int\", count=1 )\n",
    "vizVariable.data[:] = 0\n",
    "\n",
    "for index, value in enumerate(depthVariable.data[:]):\n",
    "    #print index, value\n",
    "    if np.random.rand(1)**5 > value/(mesh.maxCoord[1] - mesh.minCoord[1]):\n",
    "        vizVariable.data[index] = 1\n",
    "        \n",
    "del index, value    #get rid of any variables that might be pointing at the .data handles (these are!)"
   ]
  },
  {
   "cell_type": "code",
   "execution_count": null,
   "metadata": {
    "collapsed": false,
    "deletable": true,
    "editable": true
   },
   "outputs": [],
   "source": [
    "#fig1.show()"
   ]
  },
  {
   "cell_type": "markdown",
   "metadata": {
    "deletable": true,
    "editable": true
   },
   "source": [
    "## Integrals and metrics"
   ]
  },
  {
   "cell_type": "code",
   "execution_count": null,
   "metadata": {
    "collapsed": false,
    "deletable": true,
    "editable": true
   },
   "outputs": [],
   "source": [
    "_pressure = surfint(pressureField)\n",
    "_surfLength = surfint()\n",
    "surfLength = _surfLength.evaluate()[0]\n",
    "pressureSurf = _pressure.evaluate()[0]   \n",
    "pressureField.data[:] -= pressureSurf/surfLength"
   ]
  },
  {
   "cell_type": "markdown",
   "metadata": {
    "deletable": true,
    "editable": true
   },
   "source": [
    "## Update functions for main loop"
   ]
  },
  {
   "cell_type": "code",
   "execution_count": null,
   "metadata": {
    "collapsed": true,
    "deletable": true,
    "editable": true
   },
   "outputs": [],
   "source": [
    "def main_update():\n",
    "    \n",
    "    \n",
    "    if md.thermal:\n",
    "        dt = advDiff.get_max_dt()*md.courantFac #md.courantFac helps stabilise advDiff\n",
    "        advDiff.integrate(dt)\n",
    "        \n",
    "    else:\n",
    "        dt = advector.get_max_dt()\n",
    "        \n",
    "    advector.integrate(dt)\n",
    "    fault.advection(dt)\n",
    "    metricSwarm.advection(dt)\n",
    "    \n",
    "    #remove drift in pressure\n",
    "    pressureSurf = _pressure.evaluate()[0]   \n",
    "    pressureField.data[:] -= pressureSurf/surfLength\n",
    "    \n",
    "    \n",
    "    return time+dt, step+1\n",
    "    "
   ]
  },
  {
   "cell_type": "code",
   "execution_count": null,
   "metadata": {
    "collapsed": true,
    "deletable": true,
    "editable": true
   },
   "outputs": [],
   "source": [
    "def viz_update():\n",
    "    \n",
    "    #vizVariable      = swarm.add_variable( dataType=\"int\", count=1 )\n",
    "\n",
    "\n",
    "    #vizConds = fn.branching.conditional([(proxyTempVariable < 0.9*1., 1),\n",
    "    #                          (True, 0)]) \n",
    "\n",
    "    #vizVariable.data[:] = vizConds.evaluate(swarm)\n",
    "    \n",
    "    #save gldbs\n",
    "    fullpath = os.path.join(outputPath + \"gldbs/\")\n",
    "    \n",
    "    store1.step = step\n",
    "    fig1.save( fullpath + \"Temp\" + str(step).zfill(4))\n",
    "    \n",
    "    store2.step = step\n",
    "    fig2.save( fullpath + \"Temp\" + str(step).zfill(4))\n",
    "    "
   ]
  },
  {
   "cell_type": "code",
   "execution_count": null,
   "metadata": {
    "collapsed": true,
    "deletable": true,
    "editable": true
   },
   "outputs": [],
   "source": [
    "def swarm_update():\n",
    "    \n",
    "    #run swarm repopulation\n",
    "    repopulate()\n",
    "    \n",
    "    \n",
    "    #rebuild the ridge mask guy\n",
    "    #nearSurfTempGrad = fn.branching.conditional( ((depthFn < depthMorTest, temperatureField.fn_gradient[1] ), \n",
    "    #                                      (True,                      0.)  ))\n",
    "\n",
    "    #morRestrictFn = fn.math.abs(nearSurfTempGrad) < 50.\n",
    "    \n",
    "    \n",
    "    #rebuild the material graph condition list, and apply to swarm\n",
    "    MG.build_condition_list(materialVariable)\n",
    "    materialVariable.data[:] = fn.branching.conditional(MG.condition_list).evaluate(swarm)\n",
    "    \n",
    "    \n",
    "    "
   ]
  },
  {
   "cell_type": "markdown",
   "metadata": {
    "deletable": true,
    "editable": true
   },
   "source": [
    "## Main loop"
   ]
  },
  {
   "cell_type": "code",
   "execution_count": null,
   "metadata": {
    "collapsed": true,
    "deletable": true,
    "editable": true
   },
   "outputs": [],
   "source": [
    "time = cp.time()  # Initial time\n",
    "step = cp.step()   # Initial timestep\n",
    "maxSteps = 1000      # Maximum timesteps (201 is recommended)\n",
    "steps_output = 5   # output every 10 timesteps\n",
    "metrics_output = 5\n",
    "files_output = 10"
   ]
  },
  {
   "cell_type": "code",
   "execution_count": null,
   "metadata": {
    "collapsed": false,
    "deletable": true,
    "editable": true
   },
   "outputs": [],
   "source": [
    "while step < maxSteps:\n",
    "    \n",
    "    solver.solve(nonLinearIterate=True, nonLinearTolerance=5.0e-2,\n",
    "              nonLinearMaxIterations=15)\n",
    "    \n",
    "    # main\n",
    "    time,step = main_update()\n",
    "        \n",
    "    #Viz\n",
    "    if step % 5 == 0:\n",
    "        viz_update()\n",
    "        \n",
    "    #particles\n",
    "    if step % 5 == 0:\n",
    "        swarm_update()\n",
    "    \n",
    "    #checkpoint\n",
    "    if step % md.checkpointEvery == 0:\n",
    "        cp.saveAll(step, time)\n",
    "    \n",
    "    print 'step =',step\n",
    "    \n",
    "\n",
    "print 'step =',step"
   ]
  },
  {
   "cell_type": "code",
   "execution_count": null,
   "metadata": {
    "collapsed": true,
    "deletable": true,
    "editable": true
   },
   "outputs": [],
   "source": []
  },
  {
   "cell_type": "code",
   "execution_count": null,
   "metadata": {
    "collapsed": true
   },
   "outputs": [],
   "source": []
  },
  {
   "cell_type": "code",
   "execution_count": 46,
   "metadata": {
    "collapsed": false
   },
   "outputs": [
    {
     "data": {
      "text/plain": [
       "'test.gldb'"
      ]
     },
     "execution_count": 46,
     "metadata": {},
     "output_type": "execute_result"
    }
   ],
   "source": [
    "store = glucifer.Store('ozBench')\n",
    "figMaterialStrain = glucifer.Figure( store, figsize=(800,400), name=\"MaterialStrain\", facecolour='white', quality=2 )\n",
    "\n",
    "#When plotting an isosurface, a second function can be passed to colour the surface\n",
    "surf = glucifer.objects.IsoSurface( mesh, temperatureField, strainRate_2ndInvariant,\n",
    "                                     isovalues=[0.5], isowalls=True,\n",
    "                                     colours='grey Purple Blue Green Yellow Orange Red Black')\n",
    "\n",
    "#figMaterialStrain.Points(swarm, fn_colour = strainRate_2ndInvariant, \n",
    "#                          fn_mask   = materialFilter, \n",
    "#                          pointSize=2, #fn_size   = 2., \n",
    "#                          colours   = 'grey Purple Blue Green Yellow Orange Red Black' )\n",
    "\n",
    "#Cross sections at the boundaries, use the same colour map as isosurface\n",
    "glucifer.objects.Surface( mesh, strainRate_2ndInvariant, crossSection=\"x 100%\",  colourBar=False)\n",
    "glucifer.objects.Surface( mesh, strainRate_2ndInvariant, crossSection=\"z 0%\", colourBar=False)\n",
    "\n",
    "#Apply the camera script\n",
    "\n",
    "camera = ['translate y 1', 'rotate y 60', 'rotate x 30', 'zoom 0.1']\n",
    "\n",
    "sc = figMaterialStrain.script(camera)\n",
    "\n",
    "figMaterialStrain.save_database('test.gldb')"
   ]
  },
  {
   "cell_type": "code",
   "execution_count": null,
   "metadata": {
    "collapsed": true
   },
   "outputs": [],
   "source": [
    "surf."
   ]
  }
 ],
 "metadata": {
  "kernelspec": {
   "display_name": "Python 2",
   "language": "python",
   "name": "python2"
  },
  "language_info": {
   "codemirror_mode": {
    "name": "ipython",
    "version": 2
   },
   "file_extension": ".py",
   "mimetype": "text/x-python",
   "name": "python",
   "nbconvert_exporter": "python",
   "pygments_lexer": "ipython2",
   "version": "2.7.9"
  },
  "widgets": {
   "state": {},
   "version": "1.1.2"
  }
 },
 "nbformat": 4,
 "nbformat_minor": 1
}
