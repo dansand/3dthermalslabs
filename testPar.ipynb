{
 "cells": [
  {
   "cell_type": "code",
   "execution_count": null,
   "metadata": {
    "collapsed": true
   },
   "outputs": [],
   "source": [
    "from unsupported_dan.interfaces.marker3D import markerSurface3D\n",
    "import underworld as uw\n",
    "\n",
    "\n",
    "res = 8\n",
    "elementType=\"Q1/dQ0\"\n",
    "\n",
    "# lets do some 3d tests\n",
    "minCoord = [-1.,-1.,-1.]\n",
    "maxCoord = [ 1., 1., 1.]\n",
    "mesh = uw.mesh.FeMesh_Cartesian(elementType='Q1', elementRes=(res,res,res), minCoord=minCoord, maxCoord=maxCoord)\n",
    "\n",
    "velocityField   = uw.mesh.MeshVariable( mesh=mesh,         nodeDofCount=2 )\n"
   ]
  },
  {
   "cell_type": "code",
   "execution_count": 4,
   "metadata": {
    "collapsed": false
   },
   "outputs": [],
   "source": [
    "import numpy as np\n",
    "testPoints = np.linspace(-0.2, 0.2, 1000)\n",
    "#print(testPoints)"
   ]
  },
  {
   "cell_type": "code",
   "execution_count": null,
   "metadata": {
    "collapsed": true
   },
   "outputs": [],
   "source": [
    "#surface = markerSurface3D(mesh, velocityField, [], [], [], 0.2, 1.)\n",
    "surface = markerSurface3D(mesh, velocityField, testPoints, testPoints, testPoints, 0.2, 1.)"
   ]
  }
 ],
 "metadata": {
  "kernelspec": {
   "display_name": "Python 2",
   "language": "python",
   "name": "python2"
  },
  "language_info": {
   "codemirror_mode": {
    "name": "ipython",
    "version": 2
   },
   "file_extension": ".py",
   "mimetype": "text/x-python",
   "name": "python",
   "nbconvert_exporter": "python",
   "pygments_lexer": "ipython2",
   "version": "2.7.9"
  }
 },
 "nbformat": 4,
 "nbformat_minor": 2
}
